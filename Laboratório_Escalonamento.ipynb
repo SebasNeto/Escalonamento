{
  "cells": [
    {
      "cell_type": "markdown",
      "metadata": {
        "colab_type": "text",
        "id": "t1B1lQ1sXJKr"
      },
      "source": [
        "### Laboratorio de Escalonamento ###\n",
        "\n",
        "Neste laboratório, iremos simular o funcionamento de algoritmos de escalonamento básicos para entender melhor seu funcionamento.\n",
        "\n",
        "Na célula abaixo, temos uma classe Processo, que tem as informações de execução, e uma classe de exemplo de escalonamento apenas com os protótipos:\n",
        "\n",
        "(orientação a objeto em Python)"
      ]
    },
    {
      "cell_type": "code",
      "execution_count": 203,
      "metadata": {
        "colab": {},
        "colab_type": "code",
        "id": "CKLCRHZhXJKs"
      },
      "outputs": [],
      "source": [
        "import numpy as np\n",
        "import random\n",
        "\n",
        "class Processo(object):\n",
        "    def __init__(self,pnome,pio,ptam,prioridade,tempoChegada):\n",
        "        self.nome = pnome\n",
        "        self.io = pio # Probabilidade de fazer E/S, inicialmente zero\n",
        "        self.tam = ptam # Quantos Timeslices sao necessarios para terminar\n",
        "        self.prio = prioridade # Prioridade, eh desnecessaria aagora\n",
        "        self.chegada = 0\n",
        "        self.tempInicio = 0\n",
        "    \n",
        "        ######################################## ADICIONADO #####################################################    \n",
        "        self.tempInicio = None\n",
        "        self.tempFim = None\n",
        "        self.tempchegada = tempoChegada\n",
        "        \n",
        "\n",
        "    def roda(self,quantum=None,tempoAtual = None): # se rodar sem quantum, o processor roda ate o fim\n",
        "        \n",
        "        #print(f\"Processando {self.nome} com tempoAtual = {tempoAtual}\")\n",
        "\n",
        "        #ADICIONADO - tempo inicio primeiro processo\n",
        "        if self.tempInicio is None:\n",
        "            self.tempInicio = tempoAtual\n",
        "            #print(f\"tempoInicio de {self.nome} atualizado para {self.tempInicio}\")\n",
        "            \n",
        "        # if self.tempFim is None:\n",
        "        #     self.tempFim = tempoAtual\n",
        "            \n",
        "        if(random.randint(1,100)<self.io): #Verifica se fez E/S\n",
        "            self.tam-=1\n",
        "            print(self.nome,\" fez e/s, falta \",self.tam)\n",
        "            return 1, True #True que fez E/S\n",
        "\n",
        "            \n",
        "        if(quantum is None or self.tam<quantum):\n",
        "            quantum = self.tam\n",
        "            \n",
        "            \n",
        "        self.tam -=quantum\n",
        "        print(self.nome,\" rodou por \",quantum,\" timeslice, faltam \",self.tam)\n",
        "        #return quantum, False # False se nao fez E/S\n",
        "    \n",
        "        \n",
        "        if self.tam == 0:\n",
        "            self.tempFim = tempoAtual + quantum\n",
        "            #print(f\"tempoFim de {self.nome} atualizado para {self.tempFim}\")\n",
        "        \n",
        "        return quantum, False\n",
        "    \n",
        "    \n",
        "    def __str__(self):\n",
        "        #return f\"Processo {self.nome}: tam = {self.tam}, tempChegada = {self.tempChegada}, tempInicio = {self.tempInicio}, tempFim = {self.tempFim}\"\n",
        "        return f\"Processo {self.nome}: tam = {self.tam}, tempchegada = {self.tempchegada}, tempoInicio = {self.tempInicio}, tempoFim = {self.tempFim}\"\n",
        "\n",
        "    \n",
        "    \n",
        "class escalonadorFIFO(object): # Protótipo de escalonador de exemplo\n",
        "    def __init__(self,vprontos=[]):\n",
        "        self.prontos = vprontos #processos que cheam ao tempo zero\n",
        "\n",
        "    def pronto(self,Processo):\n",
        "        # implemente aqui o que escalonador faz quando surge um novo processo pronto\n",
        "        self.prontos.append(Processo)       \n",
        "      \n",
        "    def proximo(self):\n",
        "        if self.prontos:\n",
        "            return self.prontos.pop(0)\n",
        "        else:\n",
        "            raise IndexError(\"Fila Vazia\")\n"
      ]
    },
    {
      "cell_type": "markdown",
      "metadata": {
        "colab_type": "text",
        "id": "14846ZyfXJKx"
      },
      "source": [
        "Na célula abaixo, são criados quatro processos completamente CPU-Bound que precisam de 3 timeslices para rodar.\n",
        "\n",
        "O valor de E/S é um número entre 0 e 100 indicando quantos porcento de chance o processo tem de fazer E/S durante seu tempo na CPU"
      ]
    },
    {
      "cell_type": "code",
      "execution_count": 204,
      "metadata": {
        "colab": {},
        "colab_type": "code",
        "id": "Rc4wVHA4XJKx"
      },
      "outputs": [
        {
          "name": "stdout",
          "output_type": "stream",
          "text": [
            "0\n",
            "1\n",
            "2\n",
            "3\n"
          ]
        }
      ],
      "source": [
        "nprocs = 4\n",
        "nomes = ['A','B','C','D']\n",
        "chanceio = [0,0,0,0] #Valor de zero a cem, chance de ser entrada e saida por enquanto deixem em zero\n",
        "tamanho = np.array([3,3,3,3])\n",
        "\n",
        "\n",
        "total = tamanho.sum()\n",
        "\n",
        "procs = []\n",
        "for i in range(nprocs):\n",
        "    procs.append(Processo(nomes[i],chanceio[i],tamanho[i],0,0)) #cria uma lista procs de Processos\n",
        "    print(i)"
      ]
    },
    {
      "cell_type": "markdown",
      "metadata": {
        "colab_type": "text",
        "id": "VkfIM_1iXJK0"
      },
      "source": [
        "Na célula abaixo, temos uma simulação do funcionamento de um escalonador de processos. As duas configurações importantes aqui são o valor do quantum padrão (que pode ser dinamico em algoritmos mais complexos, e quantos timeslices um processo que faz e/s passa bloqueado.\n",
        "\n",
        "Percebam que na terceira linha é instanciado o escalonador (neste caso, um round_robin). Isto foi feito assim para ser simples trocar o escalonador e repetir a simulação, bastando criar uma classe com os métodos pronto, proximo e construtor e alterar esta linha."
      ]
    },
    {
      "cell_type": "code",
      "execution_count": 205,
      "metadata": {
        "colab": {},
        "colab_type": "code",
        "id": "7LPgBMrXXJK1"
      },
      "outputs": [
        {
          "name": "stdout",
          "output_type": "stream",
          "text": [
            "A  rodou por  3  timeslice, faltam  0\n",
            "B  rodou por  3  timeslice, faltam  0\n",
            "C  rodou por  3  timeslice, faltam  0\n",
            "D  rodou por  3  timeslice, faltam  0\n",
            "Lista tempResposta: [0, 3, 6, 9]\n",
            "Lista tempExecucao: [3, 6, 9, 12]\n",
            "O tempo Medio de resposta foi:  4.5\n",
            "O tempo Medio de execução foi:  7.5\n"
          ]
        }
      ],
      "source": [
        "quantum = 2\n",
        "tempoBloq = 1\n",
        "\n",
        "Meuescalonador = escalonadorFIFO(procs.copy()) #troque escalonador pelo seu escalonador\n",
        "bloqueados = []\n",
        "\n",
        "#ctrl + K + ctrl C\n",
        "\n",
        "# for c in procs:\n",
        "#      print(c)\n",
        "    \n",
        "if not procs:\n",
        "     print(\"A lista de processos está vazia.\")\n",
        "\n",
        "tempo = 0\n",
        "\n",
        "random.seed(0)\n",
        "\n",
        "while total>0:\n",
        "    p = Meuescalonador.proximo()\n",
        "    if(p is not None):\n",
        "        rodou, _ = p.roda(tempoAtual=tempo) #adicione quantum como parâmetro, por enquanto nao temos E/S\n",
        "        \n",
        "        if(p.tam>0):\n",
        "            Meuescalonador.pronto(p)\n",
        "        total-=rodou\n",
        "        tempo+=rodou\n",
        "    else:\n",
        "        #Reduz o tempo de todos os bloqueados em uma unidade se nao havia ninguem pronto\n",
        "        tempo+=1\n",
        "        \n",
        "    \n",
        "#for p in procs:\n",
        "    #print(f\"Processo {p.nome}: tam = {p.tam}, tempchegada = {p.tempchegada}, tempoInicio = {p.tempInicio}, tempoFim = {p.tempFim}\")\n",
        "    #return f\"Processo {p.nome}: tam = {p.tam}, tempchegada = {p.tempchegada}, tempoInicio = {p.tempInicio}, tempoFim = {p.tempFim}\"\n",
        "\n",
        "\n",
        "\n",
        "        \n",
        "        \n",
        "        \n",
        "######################################## ADICIONADO #####################################################   \n",
        "\n",
        "\n",
        "tempResposta = []\n",
        "tempExecucao = []\n",
        "\n",
        "# print(\"Conteúdo de procs:\", procs)\n",
        "\n",
        "for p in procs:\n",
        "    tempResposta.append(p.tempInicio - p.tempchegada)\n",
        "    tempExecucao.append(p.tempFim - p.tempchegada)\n",
        "\n",
        "print(\"Lista tempResposta:\", tempResposta)\n",
        "print(\"Lista tempExecucao:\", tempExecucao)\n",
        "\n",
        "tempRespostaMedio = sum(tempResposta)/len(tempResposta)\n",
        "tempExecucaoMedio = sum(tempExecucao)/len(tempExecucao)\n",
        "\n",
        "\n",
        "\n",
        "\n",
        "print(\"O tempo Medio de resposta foi: \", tempRespostaMedio)\n",
        "print(\"O tempo Medio de execução foi: \", tempExecucaoMedio)\n",
        "\n",
        "\n",
        " \n",
        "\n",
        "    \n",
        "\n",
        "    "
      ]
    },
    {
      "cell_type": "code",
      "execution_count": null,
      "metadata": {},
      "outputs": [],
      "source": []
    },
    {
      "cell_type": "markdown",
      "metadata": {
        "colab_type": "text",
        "id": "l-WBMAKhXJK4"
      },
      "source": [
        "### Laboratório: ###\n",
        "\n",
        "\n",
        "1 - Altere o simulador acima para calcular o tempo de execucao medio e tempo de resposta \n",
        "\n",
        "2 - Implemente o escalonador por FIFO e SJF e verifique seus tempos de execução e espera.\n",
        "\n",
        "3 - Faça em outra célula uma implementação do STCF e Round Robin, alterando o p.roda() para receber o quantum\n"
      ]
    },
    {
      "cell_type": "markdown",
      "metadata": {
        "colab_type": "text",
        "id": "G5T25EzaXJK5"
      },
      "source": [
        "Na segunda feira (15) haverá um questionário no ColabWeb onde você deverá utilizar suas implementações para responder às perguntas. Na terça de manhã farei uma breve conferência para tirar dúvidas."
      ]
    },
    {
      "cell_type": "code",
      "execution_count": null,
      "metadata": {
        "colab": {},
        "colab_type": "code",
        "id": "BlxysVYbuuDX"
      },
      "outputs": [],
      "source": []
    }
  ],
  "metadata": {
    "colab": {
      "name": "Laboratório Escalonamento.ipynb",
      "provenance": []
    },
    "kernelspec": {
      "display_name": "Python 3",
      "language": "python",
      "name": "python3"
    },
    "language_info": {
      "codemirror_mode": {
        "name": "ipython",
        "version": 3
      },
      "file_extension": ".py",
      "mimetype": "text/x-python",
      "name": "python",
      "nbconvert_exporter": "python",
      "pygments_lexer": "ipython3",
      "version": "3.11.4"
    }
  },
  "nbformat": 4,
  "nbformat_minor": 0
}
